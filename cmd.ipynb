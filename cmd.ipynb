{
 "cells": [
  {
   "cell_type": "code",
   "execution_count": null,
   "metadata": {},
   "outputs": [],
   "source": [
    "# 运行主脚本,执行webqsp的initial direct_qa \n",
    "python run.py -d \"webqsp\" --embedding_model \"sentence-transformers\" --llm \"gpt4o-mini\" --task \"direct_qa\" --eval_top_k -1 --pruning_top_k 750"
   ]
  },
  {
   "cell_type": "code",
   "execution_count": null,
   "metadata": {},
   "outputs": [],
   "source": [
    "# 运行主脚本,执行webqsp的llm direct_qa \n",
    "python run.py -d \"webqsp\" --embedding_model \"sentence-transformers\" --llm \"gpt4o-mini\" --task \"direct_qa\" --eval_top_k -1 --pruning_top_k 750 --llm_pruning_top_k 100"
   ]
  },
  {
   "cell_type": "markdown",
   "metadata": {},
   "source": [
    "# 运行主脚本,执行cwq的query decompose\n",
    "python run.py -d \"cwq\" --embedding_model \"sentence-transformers\" --llm \"gpt4o-mini\" --task \"query_decompose\" --eval_top_k -1 --pruning_top_k 750"
   ]
  },
  {
   "cell_type": "code",
   "execution_count": null,
   "metadata": {},
   "outputs": [],
   "source": [
    "# 运行主脚本,执行webqsp的query decompose\n",
    "python run.py -d \"webqsp\" --embedding_model \"sentence-transformers\" --llm \"gpt4o-mini\" --task \"query_decompose\" --eval_top_k -1 --pruning_top_k 750"
   ]
  },
  {
   "cell_type": "markdown",
   "metadata": {},
   "source": [
    "# 执行webqsp 的 qa evaluate\n"
   ]
  },
  {
   "cell_type": "code",
   "execution_count": null,
   "metadata": {},
   "outputs": [],
   "source": [
    "# cwq的triple trans\n",
    "python run.py -d \"cwq\" --embedding_model \"sentence-transformers\" --llm \"gpt4o-mini\" --task \"triple_trans\" --eval_top_k -1 --pruning_top_k 750 --llm_pruning_top_k 100"
   ]
  }
 ],
 "metadata": {
  "language_info": {
   "name": "python"
  }
 },
 "nbformat": 4,
 "nbformat_minor": 2
}
